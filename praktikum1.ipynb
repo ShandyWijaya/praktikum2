{
  "nbformat": 4,
  "nbformat_minor": 0,
  "metadata": {
    "colab": {
      "provenance": [],
      "authorship_tag": "ABX9TyM38cLlHUsLkorpX7yKmLOR",
      "include_colab_link": true
    },
    "kernelspec": {
      "name": "python3",
      "display_name": "Python 3"
    },
    "language_info": {
      "name": "python"
    }
  },
  "cells": [
    {
      "cell_type": "markdown",
      "metadata": {
        "id": "view-in-github",
        "colab_type": "text"
      },
      "source": [
        "<a href=\"https://colab.research.google.com/github/ShandyWijaya/praktikum2/blob/main/praktikum1.ipynb\" target=\"_parent\"><img src=\"https://colab.research.google.com/assets/colab-badge.svg\" alt=\"Open In Colab\"/></a>"
      ]
    },
    {
      "cell_type": "code",
      "execution_count": null,
      "metadata": {
        "colab": {
          "base_uri": "https://localhost:8080/"
        },
        "id": "8ziPS5dnWhyy",
        "outputId": "fd19ed4f-85e5-4010-9ae0-92c1d0da2caa"
      },
      "outputs": [
        {
          "output_type": "stream",
          "name": "stdout",
          "text": [
            "=== Variabel dan Tipe Data ===\n",
            "Nilai a: 10 | Tipe: <class 'int'>\n",
            "Nilai b: 3.14 | Tipe: <class 'float'>\n",
            "Nilai c: Halo! | Tipe: <class 'str'>\n",
            "Nilai d: [1, 2, 3] | Tipe: <class 'list'>\n",
            "\n",
            "=== List dan Manipulasi ===\n",
            "Daftar belanjaan:\n",
            "- beras\n",
            "- minyak\n",
            "- telur\n",
            "- gula\n",
            "- kopi\n",
            "\n",
            "=== Dictionary ===\n",
            "Daftar harga belanjaan:\n",
            "beras: Rp12000\n",
            "minyak: Rp17000\n",
            "telur: Rp24000\n",
            "gula: Rp15000\n",
            "kopi: Rp20000\n",
            "Total belanja = Rp 88000\n",
            "\n",
            "=== Fungsi ===\n",
            "Luas = 50, Keliling = 30\n",
            "\n",
            "=== Percabangan If Else ===\n",
            "Masukkan usia Anda: 16\n",
            "Kategori: Remaja\n"
          ]
        }
      ],
      "source": [
        "# 1. Variabel dan Tipe Data\n",
        "print(\"=== Variabel dan Tipe Data ===\")\n",
        "a = 10          # integer\n",
        "b = 3.14        # float\n",
        "c = \"Halo!\"     # string\n",
        "d = [1, 2, 3]   # list\n",
        "\n",
        "print(\"Nilai a:\", a, \"| Tipe:\", type(a))\n",
        "print(\"Nilai b:\", b, \"| Tipe:\", type(b))\n",
        "print(\"Nilai c:\", c, \"| Tipe:\", type(c))\n",
        "print(\"Nilai d:\", d, \"| Tipe:\", type(d))\n",
        "\n",
        "\n",
        "# 2. List dan Manipulasi\n",
        "print(\"\\n=== List dan Manipulasi ===\")\n",
        "belanja = [\"beras\", \"minyak\", \"telur\"]\n",
        "belanja.append(\"gula\")\n",
        "belanja.append(\"kopi\")\n",
        "\n",
        "print(\"Daftar belanjaan:\")\n",
        "for item in belanja:\n",
        "    print(\"-\", item)\n",
        "\n",
        "\n",
        "# 3. Dictionary\n",
        "print(\"\\n=== Dictionary ===\")\n",
        "harga_belanjaan = {\n",
        "    \"beras\": 12000,\n",
        "    \"minyak\": 17000,\n",
        "    \"telur\": 24000,\n",
        "    \"gula\": 15000,\n",
        "    \"kopi\": 20000\n",
        "}\n",
        "\n",
        "# Hitung total harga\n",
        "total = sum(harga_belanjaan.values())\n",
        "print(\"Daftar harga belanjaan:\")\n",
        "for barang, harga in harga_belanjaan.items():\n",
        "    print(f\"{barang}: Rp{harga}\")\n",
        "\n",
        "print(\"Total belanja = Rp\", total)\n",
        "\n",
        "\n",
        "# 4. Fungsi\n",
        "print(\"\\n=== Fungsi ===\")\n",
        "def persegi_panjang(panjang, lebar):\n",
        "    luas = panjang * lebar\n",
        "    keliling = 2 * (panjang + lebar)\n",
        "    return luas, keliling\n",
        "\n",
        "luas, keliling = persegi_panjang(10, 5)\n",
        "print(f\"Luas = {luas}, Keliling = {keliling}\")\n",
        "\n",
        "\n",
        "# 5. Percabangan If Else\n",
        "print(\"\\n=== Percabangan If Else ===\")\n",
        "usia = int(input(\"Masukkan usia Anda: \"))\n",
        "\n",
        "if 0 <= usia <= 13:\n",
        "    print(\"Kategori: Anak\")\n",
        "elif 14 <= usia <= 24:\n",
        "    print(\"Kategori: Remaja\")\n",
        "elif 25 <= usia <= 49:\n",
        "    print(\"Kategori: Dewasa\")\n",
        "elif usia >= 50:\n",
        "    print(\"Kategori: Lansia\")\n",
        "else:\n",
        "    print(\"Usia tidak valid\")"
      ]
    },
    {
      "cell_type": "code",
      "source": [
        "a=3\n",
        "a\n",
        "type(a)"
      ],
      "metadata": {
        "colab": {
          "base_uri": "https://localhost:8080/"
        },
        "id": "xnuHUlocb7F5",
        "outputId": "e2815709-dc08-405c-ac69-c24be5f2dd69"
      },
      "execution_count": null,
      "outputs": [
        {
          "output_type": "execute_result",
          "data": {
            "text/plain": [
              "int"
            ]
          },
          "metadata": {},
          "execution_count": 2
        }
      ]
    },
    {
      "cell_type": "code",
      "source": [
        "nama = \"cendy\"\n",
        "type(nama)"
      ],
      "metadata": {
        "colab": {
          "base_uri": "https://localhost:8080/"
        },
        "id": "0p2HwidGcExj",
        "outputId": "b67ce96d-0cdc-46ee-c8c4-1b8e97acb0cd"
      },
      "execution_count": null,
      "outputs": [
        {
          "output_type": "execute_result",
          "data": {
            "text/plain": [
              "str"
            ]
          },
          "metadata": {},
          "execution_count": 3
        }
      ]
    },
    {
      "cell_type": "code",
      "source": [
        "list = [1,2,3,4,5]\n",
        "type(list)"
      ],
      "metadata": {
        "colab": {
          "base_uri": "https://localhost:8080/"
        },
        "id": "vRa8r7xfcMam",
        "outputId": "0b9f87c6-ef3d-4581-edc7-fe97a6daa8f0"
      },
      "execution_count": null,
      "outputs": [
        {
          "output_type": "execute_result",
          "data": {
            "text/plain": [
              "list"
            ]
          },
          "metadata": {},
          "execution_count": 4
        }
      ]
    }
  ]
}